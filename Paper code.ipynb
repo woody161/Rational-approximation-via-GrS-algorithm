{
 "cells": [
  {
   "cell_type": "code",
   "execution_count": 1,
   "metadata": {},
   "outputs": [],
   "source": [
    "import numpy as np\n",
    "import matplotlib.pyplot as plt\n",
    "from itertools import product\n",
    "from itertools import combinations_with_replacement"
   ]
  },
  {
   "cell_type": "code",
   "execution_count": 4,
   "metadata": {},
   "outputs": [
    {
     "data": {
      "text/plain": [
       "1.5275252316519468"
      ]
     },
     "execution_count": 4,
     "metadata": {},
     "output_type": "execute_result"
    }
   ],
   "source": [
    "(7/3)**(0.5)"
   ]
  },
  {
   "cell_type": "markdown",
   "metadata": {},
   "source": [
    "## 1 Distance calculation"
   ]
  },
  {
   "cell_type": "code",
   "execution_count": 2,
   "metadata": {},
   "outputs": [],
   "source": [
    "def disc_to_square(z):\n",
    "    ang=np.angle(z)\n",
    "    if (ang>=np.pi/4 and ang<3*np.pi/4) or (ang>=-3*np.pi/4 and ang<-np.pi/4):\n",
    "        w=z/np.abs(np.sin(ang))\n",
    "    else:\n",
    "        w=z/np.abs(np.cos(ang))\n",
    "    return w\n",
    "    \n",
    "def square_to_disc(w):\n",
    "    ang=np.angle(w)\n",
    "    if (ang>=np.pi/4 and ang<3*np.pi/4) or (ang>=-3*np.pi/4 and ang<-np.pi/4):\n",
    "        z=w*np.abs(np.sin(ang))\n",
    "    else:\n",
    "        z=w*np.abs(np.cos(ang))\n",
    "    return z"
   ]
  },
  {
   "cell_type": "code",
   "execution_count": 4,
   "metadata": {},
   "outputs": [
    {
     "data": {
      "text/plain": [
       "1.0823922002923938"
      ]
     },
     "execution_count": 4,
     "metadata": {},
     "output_type": "execute_result"
    }
   ],
   "source": [
    "(4-2*2**0.5)**0.5"
   ]
  },
  {
   "cell_type": "code",
   "execution_count": 5,
   "metadata": {},
   "outputs": [
    {
     "name": "stdout",
     "output_type": "stream",
     "text": [
      "100\n"
     ]
    }
   ],
   "source": [
    "k=50\n",
    "wk=np.array([np.complex(0.5,w) for w in np.linspace(-1,1,k)])\n",
    "zk=np.array([square_to_disc(w) for w in wk])\n",
    "\n",
    "zs=np.linspace(-1,1,10)\n",
    "W=np.array([[np.complex(i,j) for i in zs] for j in zs]).ravel()\n",
    "Z=np.array([square_to_disc(w) for w in W])\n",
    "print(len(W))"
   ]
  },
  {
   "cell_type": "code",
   "execution_count": 13,
   "metadata": {},
   "outputs": [
    {
     "name": "stdout",
     "output_type": "stream",
     "text": [
      "1.1291933583316802\n"
     ]
    }
   ],
   "source": [
    "lam=[]\n",
    "for i in range(100):\n",
    "    for j in range(i+1,100):\n",
    "        dz=np.abs(Z[i]-Z[j])\n",
    "        dw=np.abs(W[i]-W[j])\n",
    "        #print(dz)\n",
    "        lam.append(dz/dw)\n",
    "        m=np.array(lam).max()\n",
    "        if dz/dw>=m:\n",
    "            z1=Z[i];z2=Z[j]\n",
    "print(np.array(lam).max())"
   ]
  },
  {
   "cell_type": "code",
   "execution_count": 16,
   "metadata": {},
   "outputs": [
    {
     "name": "stdout",
     "output_type": "stream",
     "text": [
      "0.5611006908824256\n"
     ]
    }
   ],
   "source": [
    "print(np.abs(z1-z2))"
   ]
  },
  {
   "cell_type": "code",
   "execution_count": 18,
   "metadata": {},
   "outputs": [
    {
     "name": "stdout",
     "output_type": "stream",
     "text": [
      "(-0.39283710065919314-0.39283710065919314j) (-0.9486832980505138-0.31622776601683794j)\n",
      "(-0.5555555555555556-0.5555555555555556j) (-1-0.33333333333333337j)\n",
      "0.49690399499995325\n"
     ]
    }
   ],
   "source": [
    "w1=disc_to_square(z1);w2=disc_to_square(z2)\n",
    "print(z1,z2);print(w1,w2);print(np.abs(w1-w2))"
   ]
  },
  {
   "cell_type": "code",
   "execution_count": 26,
   "metadata": {},
   "outputs": [
    {
     "name": "stdout",
     "output_type": "stream",
     "text": [
      "1.4142135623730947 1.0540925533894598 0.5555555555555557 0.9999999999999999\n"
     ]
    },
    {
     "data": {
      "image/png": "[encoded data removed]",
      "text/plain": [
       "<Figure size 432x288 with 1 Axes>"
      ]
     },
     "metadata": {
      "needs_background": "light"
     },
     "output_type": "display_data"
    }
   ],
   "source": [
    "plt.plot([0,z1.real],[0,z1.imag],c='r')\n",
    "plt.plot([0,z2.real],[0,z2.imag],c='r')\n",
    "plt.plot([0,w1.real],[0,w1.imag],c='k',linestyle='--',alpha=0.2)\n",
    "plt.plot([0,w2.real],[0,w2.imag],c='k',linestyle='--',alpha=0.2)\n",
    "a=np.abs(w1/z1);b=np.abs(w2/z2);r1=np.abs(z1);r2=np.abs(z2)\n",
    "print(a,b,r1,r2)"
   ]
  },
  {
   "cell_type": "code",
   "execution_count": 29,
   "metadata": {},
   "outputs": [
    {
     "name": "stdout",
     "output_type": "stream",
     "text": [
      "0.8944271909999159\n",
      "1.3416407864998734 0.5555555555555558\n"
     ]
    }
   ],
   "source": [
    "ang1=np.angle(z1);ang2=np.angle(z2);the=np.cos(ang1-ang2);print(the)\n",
    "c=a/b;r=r1/r2;print(c,r)"
   ]
  },
  {
   "cell_type": "code",
   "execution_count": 34,
   "metadata": {},
   "outputs": [
    {
     "data": {
      "text/plain": [
       "0.5611006908824256"
      ]
     },
     "execution_count": 34,
     "metadata": {},
     "output_type": "execute_result"
    }
   ],
   "source": [
    "(r1**2+r2**2-2*r1*r2*the)**0.5"
   ]
  },
  {
   "cell_type": "code",
   "execution_count": 38,
   "metadata": {},
   "outputs": [
    {
     "name": "stdout",
     "output_type": "stream",
     "text": [
      "0.3148339853087353 0.2222222222222222 0.09261176308651309\n"
     ]
    }
   ],
   "source": [
    "dz=(1-2*r*the+r**2);\n",
    "dw=(1-2*c*r*the+c**2*r**2)\n",
    "print(dz,dw,dz-dw)"
   ]
  },
  {
   "cell_type": "code",
   "execution_count": 35,
   "metadata": {},
   "outputs": [
    {
     "data": {
      "text/plain": [
       "1.12919335833168"
      ]
     },
     "execution_count": 35,
     "metadata": {},
     "output_type": "execute_result"
    }
   ],
   "source": [
    "((1-2*r*the+r**2)/(b**2*(1-2*c*r*the+c**2*r**2)))**0.5"
   ]
  }
 ],
 "metadata": {
  "kernelspec": {
   "display_name": "Python 3",
   "language": "python",
   "name": "python3"
  },
  "language_info": {
   "codemirror_mode": {
    "name": "ipython",
    "version": 3
   },
   "file_extension": ".py",
   "mimetype": "text/x-python",
   "name": "python",
   "nbconvert_exporter": "python",
   "pygments_lexer": "ipython3",
   "version": "3.8.5"
  }
 },
 "nbformat": 4,
 "nbformat_minor": 4
}
